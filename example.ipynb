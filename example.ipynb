{
 "cells": [
  {
   "cell_type": "code",
   "execution_count": 1,
   "id": "295c63a9",
   "metadata": {},
   "outputs": [],
   "source": [
    "import pandas as pd\n",
    "from tabsyndex import tabsyndex\n",
    "from sklearn.model_selection import train_test_split"
   ]
  },
  {
   "cell_type": "code",
   "execution_count": 2,
   "id": "5b75aaea",
   "metadata": {},
   "outputs": [
    {
     "name": "stderr",
     "output_type": "stream",
     "text": [
      "/Users/vikram/Desktop/tabsyndex.py:126: FutureWarning: The frame.append method is deprecated and will be removed from pandas in a future version. Use pandas.concat instead.\n",
      "  data = real_data_norm.append(fake_data_norm, ignore_index=True)\n"
     ]
    },
    {
     "data": {
      "text/plain": [
       "{'score': 0.9381495367697882,\n",
       " 'basic_score': 0.9877250838071668,\n",
       " 'corr_score': 0.8283665826986896,\n",
       " 'ml_score': 0.9989785081027326,\n",
       " 'sup_score': 0.920665796616218,\n",
       " 'pmse_score': 0.9550117126241343}"
      ]
     },
     "execution_count": 2,
     "metadata": {},
     "output_type": "execute_result"
    }
   ],
   "source": [
    "data = pd.read_csv('data/winequality-white.csv', delimiter=';')\n",
    "data_part_wine1, data_part_wine2 = train_test_split(data, test_size=0.5, random_state=0)\n",
    "data_part_wine2.head()\n",
    "tabsyndex(data_part_wine1, data_part_wine2, cat_cols=['quality'], target_type='class')"
   ]
  },
  {
   "cell_type": "code",
   "execution_count": 3,
   "id": "546177f9",
   "metadata": {},
   "outputs": [
    {
     "name": "stderr",
     "output_type": "stream",
     "text": [
      "/Users/vikram/Desktop/tabsyndex.py:126: FutureWarning: The frame.append method is deprecated and will be removed from pandas in a future version. Use pandas.concat instead.\n",
      "  data = real_data_norm.append(fake_data_norm, ignore_index=True)\n"
     ]
    },
    {
     "data": {
      "text/plain": [
       "{'score': 0.8975799859145901,\n",
       " 'basic_score': 0.9661885119770895,\n",
       " 'corr_score': 0.7914965162713217,\n",
       " 'ml_score': 0.9144996240227592,\n",
       " 'sup_score': 0.9361756596441981,\n",
       " 'pmse_score': 0.879539617657582}"
      ]
     },
     "execution_count": 3,
     "metadata": {},
     "output_type": "execute_result"
    }
   ],
   "source": [
    "cat_cols=[' data_channel_is_lifestyle',\n",
    "       ' data_channel_is_entertainment', ' data_channel_is_bus',\n",
    "       ' data_channel_is_socmed', ' data_channel_is_tech',\n",
    "       ' data_channel_is_world', ' weekday_is_monday', ' weekday_is_tuesday', ' weekday_is_wednesday',\n",
    "       ' weekday_is_thursday', ' weekday_is_friday', ' weekday_is_saturday',\n",
    "       ' weekday_is_sunday', ' is_weekend']\n",
    "data_news = pd.read_csv('data/news.csv')\n",
    "data_part_news1, data_part_news2 = train_test_split(data_news, test_size=0.5, random_state=0)\n",
    "tabsyndex(data_part_news1, data_part_news2, cat_cols=cat_cols, target_type='regr')"
   ]
  },
  {
   "cell_type": "code",
   "execution_count": 4,
   "id": "0d5a75cd",
   "metadata": {},
   "outputs": [
    {
     "name": "stderr",
     "output_type": "stream",
     "text": [
      "/Users/vikram/Desktop/tabsyndex.py:126: FutureWarning: The frame.append method is deprecated and will be removed from pandas in a future version. Use pandas.concat instead.\n",
      "  data = real_data_norm.append(fake_data_norm, ignore_index=True)\n"
     ]
    },
    {
     "data": {
      "text/plain": [
       "{'score': 0.8937047022858418,\n",
       " 'basic_score': 0.9606683410904581,\n",
       " 'corr_score': 0.7884390446262223,\n",
       " 'ml_score': 0.9383054907195094,\n",
       " 'sup_score': 1.0,\n",
       " 'pmse_score': 0.7811106349930188}"
      ]
     },
     "execution_count": 4,
     "metadata": {},
     "output_type": "execute_result"
    }
   ],
   "source": [
    "data_concrete = pd.read_csv('data/concrete.csv')\n",
    "data_part_concrete1, data_part_concrete2 = train_test_split(data_concrete, test_size=0.5, random_state=0)\n",
    "tabsyndex(data_part_concrete1, data_part_concrete2, cat_cols=[], target_type='regr')"
   ]
  },
  {
   "cell_type": "code",
   "execution_count": null,
   "id": "f8d84fbf",
   "metadata": {},
   "outputs": [],
   "source": []
  }
 ],
 "metadata": {
  "kernelspec": {
   "display_name": "Python 3 (ipykernel)",
   "language": "python",
   "name": "python3"
  },
  "language_info": {
   "codemirror_mode": {
    "name": "ipython",
    "version": 3
   },
   "file_extension": ".py",
   "mimetype": "text/x-python",
   "name": "python",
   "nbconvert_exporter": "python",
   "pygments_lexer": "ipython3",
   "version": "3.10.8"
  }
 },
 "nbformat": 4,
 "nbformat_minor": 5
}
